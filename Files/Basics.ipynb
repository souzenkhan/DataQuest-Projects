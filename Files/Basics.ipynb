{
 "cells": [
  {
   "cell_type": "markdown",
   "metadata": {},
   "source": [
    "## Analyzing Mobile App Data"
   ]
  },
  {
   "cell_type": "markdown",
   "metadata": {},
   "source": [
    "This project analyzes mobile app data on the Google Play and App Store. \n",
    "\n",
    "This data specifically pertains to apps that a are free to download and the main source of revenue contains of in-app ads. \n",
    "\n",
    "The __goal__ of this project is to analyze data to understand what type of apps are more likely to attract more users. "
   ]
  },
  {
   "cell_type": "code",
   "execution_count": 3,
   "metadata": {},
   "outputs": [],
   "source": [
    "import csv\n",
    "# for App Store\n",
    "with open('/Users/souzenkhan/Documents/Data Science Practice/Data/AppleStore.csv', 'r') as apple: \n",
    "    reader = csv.reader(apple)\n",
    "    df_apple = list(reader)\n",
    "    \n",
    "with open('/Users/souzenkhan/Documents/Data Science Practice/Data/googleplaystore.csv', 'r') as google: \n",
    "    reader = csv.reader(google)\n",
    "    df_google = list(reader)"
   ]
  },
  {
   "cell_type": "code",
   "execution_count": 4,
   "metadata": {},
   "outputs": [],
   "source": [
    "def explore_data(dataset, start, end, rows_and_columns=False):\n",
    "    dataset_slice = dataset[start:end]    \n",
    "    for row in dataset_slice:\n",
    "        print(row)\n",
    "        print('\\n') # adds a new (empty) line after each row\n",
    "\n",
    "    if rows_and_columns:\n",
    "        print('Number of rows:', len(dataset))\n",
    "        print('Number of columns:', len(dataset[0]))"
   ]
  },
  {
   "cell_type": "code",
   "execution_count": 5,
   "metadata": {},
   "outputs": [
    {
     "name": "stdout",
     "output_type": "stream",
     "text": [
      "['id', 'track_name', 'size_bytes', 'currency', 'price', 'rating_count_tot', 'rating_count_ver', 'user_rating', 'user_rating_ver', 'ver', 'cont_rating', 'prime_genre', 'sup_devices.num', 'ipadSc_urls.num', 'lang.num', 'vpp_lic']\n",
      "\n",
      "\n",
      "['284882215', 'Facebook', '389879808', 'USD', '0.0', '2974676', '212', '3.5', '3.5', '95.0', '4+', 'Social Networking', '37', '1', '29', '1']\n",
      "\n",
      "\n",
      "['389801252', 'Instagram', '113954816', 'USD', '0.0', '2161558', '1289', '4.5', '4.0', '10.23', '12+', 'Photo & Video', '37', '0', '29', '1']\n",
      "\n",
      "\n",
      "Number of rows: 7198\n",
      "Number of columns: 16\n"
     ]
    }
   ],
   "source": [
    "#Prints the first three rows and outputs total \n",
    "#no. of rows and columns in the apple dataset\n",
    "apple_explore = explore_data(df_apple, 0, 3, True)"
   ]
  },
  {
   "cell_type": "code",
   "execution_count": 6,
   "metadata": {},
   "outputs": [
    {
     "name": "stdout",
     "output_type": "stream",
     "text": [
      "['App', 'Category', 'Rating', 'Reviews', 'Size', 'Installs', 'Type', 'Price', 'Content Rating', 'Genres', 'Last Updated', 'Current Ver', 'Android Ver']\n",
      "\n",
      "\n",
      "['Photo Editor & Candy Camera & Grid & ScrapBook', 'ART_AND_DESIGN', '4.1', '159', '19M', '10,000+', 'Free', '0', 'Everyone', 'Art & Design', 'January 7, 2018', '1.0.0', '4.0.3 and up']\n",
      "\n",
      "\n",
      "['Coloring book moana', 'ART_AND_DESIGN', '3.9', '967', '14M', '500,000+', 'Free', '0', 'Everyone', 'Art & Design;Pretend Play', 'January 15, 2018', '2.0.0', '4.0.3 and up']\n",
      "\n",
      "\n",
      "Number of rows: 10842\n",
      "Number of columns: 13\n"
     ]
    }
   ],
   "source": [
    "#does the same for the google dataset\n",
    "google_explore = explore_data(df_google, 0, 3, True)"
   ]
  },
  {
   "cell_type": "code",
   "execution_count": 7,
   "metadata": {
    "scrolled": true
   },
   "outputs": [
    {
     "name": "stdout",
     "output_type": "stream",
     "text": [
      "['id', 'track_name', 'size_bytes', 'currency', 'price', 'rating_count_tot', 'rating_count_ver', 'user_rating', 'user_rating_ver', 'ver', 'cont_rating', 'prime_genre', 'sup_devices.num', 'ipadSc_urls.num', 'lang.num', 'vpp_lic']\n",
      "\n",
      "\n",
      "['App', 'Category', 'Rating', 'Reviews', 'Size', 'Installs', 'Type', 'Price', 'Content Rating', 'Genres', 'Last Updated', 'Current Ver', 'Android Ver']\n"
     ]
    }
   ],
   "source": [
    "print(df_apple[0])\n",
    "print('\\n')\n",
    "print(df_google[0])"
   ]
  },
  {
   "cell_type": "markdown",
   "metadata": {},
   "source": [
    "#### Apple columns that may be useful for analysis: \n",
    "\n",
    "- \"id\": App ID\n",
    "- \"track_name\": App Name\n",
    "- \"size_bytes\": Size (in Bytes)\n",
    "- \"currency\": Currency Type\n",
    "- \"price\": Price amount\n",
    "- \"rating_count_tot\": User Rating counts (for all version)\n",
    "- \"rating_count_ver\": User Rating counts (for current version)\n",
    "- \"user_rating\": Average User Rating value (for all version)\n",
    "- \"user_rating_ver\": Average User Rating value (for current version)\n",
    "- \"ver\": Latest version code\n",
    "- \"cont_rating\": Content Rating\n",
    "- \"prime_genre\": Primary Genre\n",
    "- \"sup_devices.num\": Number of supporting devices\n",
    "- \"lang.num\": Number of supported languages"
   ]
  },
  {
   "cell_type": "markdown",
   "metadata": {},
   "source": [
    "#### Play Store columns that may be useful for analysis\n",
    "- 'App': App name\n",
    "- 'Category': Type of app\n",
    "- 'Rating': Average Rating\n",
    "- 'Reviews': No. of reviews, 'Size', 'Installs', 'Type', 'Price',\n",
    "- 'Content Rating' - Maturity level\n",
    "- 'Genres' - App genres\n",
    "- 'Last Updated' - Most recent update \n",
    "- 'Current Ver' - Current app version\n",
    "- 'Android Ver' - Android version"
   ]
  },
  {
   "cell_type": "markdown",
   "metadata": {},
   "source": [
    "[Click to view documentation](https://www.kaggle.com/datasets/ramamet4/app-store-apple-data-set-10k-apps/data)"
   ]
  },
  {
   "cell_type": "code",
   "execution_count": null,
   "metadata": {},
   "outputs": [],
   "source": []
  }
 ],
 "metadata": {
  "kernelspec": {
   "display_name": "env-ai",
   "language": "python",
   "name": "python3"
  },
  "language_info": {
   "codemirror_mode": {
    "name": "ipython",
    "version": 3
   },
   "file_extension": ".py",
   "mimetype": "text/x-python",
   "name": "python",
   "nbconvert_exporter": "python",
   "pygments_lexer": "ipython3",
   "version": "3.13.0"
  }
 },
 "nbformat": 4,
 "nbformat_minor": 2
}
